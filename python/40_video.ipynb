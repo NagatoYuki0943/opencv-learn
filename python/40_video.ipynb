{
 "cells": [
  {
   "cell_type": "code",
   "execution_count": 20,
   "metadata": {},
   "outputs": [],
   "source": [
    "import numpy as np\n",
    "import cv2\n",
    "import matplotlib.pyplot as plt"
   ]
  },
  {
   "attachments": {},
   "cell_type": "markdown",
   "metadata": {},
   "source": [
    "# 读取视频"
   ]
  },
  {
   "cell_type": "code",
   "execution_count": 21,
   "metadata": {},
   "outputs": [
    {
     "data": {
      "text/plain": [
       "True"
      ]
     },
     "execution_count": 21,
     "metadata": {},
     "output_type": "execute_result"
    }
   ],
   "source": [
    "cap = cv2.VideoCapture(\"../videos/DOG.wmv\")\n",
    "cap.isOpened()  # 判断读取成功"
   ]
  },
  {
   "attachments": {},
   "cell_type": "markdown",
   "metadata": {},
   "source": [
    "# 获取视频的某些属性\n",
    "\n",
    "参数：\n",
    "\n",
    "propId: 从0到18的数字，每个数字表示视频的属性\n",
    "\n",
    "常用属性有：\n",
    "\n",
    "| 索引 | flags                      | 意义                                    |\n",
    "| ---- | -------------------------- | --------------------------------------- |\n",
    "| 0    | cv2.CAP_PROP_POS_MSEC      | 视频文件的当前位置(ms)                  |\n",
    "| 1    | cv2.CAP_PROP_POS_FRAMES    | 从0开始索引帧,帧位置                    |\n",
    "| 2    | cv2.CAP_PROP_POS_AVI_RATIO | 视频文件的相对位置(0表示开始,1表示结束) |\n",
    "| 3    | cv2.CAP_PROP_FRAME_WIDTH   | 视频流的帧宽度                          |\n",
    "| 4    | cv2.CAP_PROP_FRAME_HEIGHT  | 视频流的帧高度                          |\n",
    "| 5    | cv2.CAP_PROP_FPS           | 帧率                                    |\n",
    "| 6    | cv2.CAP_PROP_FOURCC        | 编解码器四字符代码                      |\n",
    "| 7    | cv2.CAP_PROP_FRAME_COUNT   | 视频文件的帧                            |\n",
    "\n"
   ]
  },
  {
   "cell_type": "code",
   "execution_count": 22,
   "metadata": {},
   "outputs": [
    {
     "data": {
      "text/plain": [
       "(444, 480, 10)"
      ]
     },
     "execution_count": 22,
     "metadata": {},
     "output_type": "execute_result"
    }
   ],
   "source": [
    "width  = int(cap.get(3))\n",
    "height = int(cap.get(4))\n",
    "frame  = int(cap.get(5))\n",
    "width, height, frame"
   ]
  },
  {
   "attachments": {},
   "cell_type": "markdown",
   "metadata": {},
   "source": [
    "# 修改视频的属性信息"
   ]
  },
  {
   "cell_type": "code",
   "execution_count": 3,
   "metadata": {},
   "outputs": [],
   "source": [
    "# proid: 属性的索引，与上面的表格相对应\n",
    "# value: 修改后的属性值\n",
    "# cap.set(5, 30)"
   ]
  },
  {
   "attachments": {},
   "cell_type": "markdown",
   "metadata": {},
   "source": [
    "# 获取视频的一帧图像\n",
    "\n",
    "jupyter中没法播放,py中可以正常播放\n",
    "```python\n",
    "while (cap.isOpened()):\n",
    "    # 4.获取视频的一帧图像\n",
    "    # 参数：\n",
    "    #     ret: 若获取成功返回True，获取失败，返回False\n",
    "    #     Frame: 获取到的某一帧的图像\n",
    "    ret, frame = cap.read()\n",
    "\n",
    "    # 5.调用cv.imshow()显示图像，在显示图像时使用cv.waitkey()设置适当的持续时间，\n",
    "    # 如果太低视频会播放的非常快，如果太高就会播放的非常慢，通常情况下我们设置25ms就可以了。\n",
    "    if ret == True:\n",
    "        cv.imshow('frame', frame)\n",
    "\n",
    "    # 5.每一帧间隔为25ms 且 按了 q 就退出\n",
    "    if cv.waitKey(25) & 0xFF == ord('q'):\n",
    "        break\n",
    "```"
   ]
  },
  {
   "cell_type": "code",
   "execution_count": 4,
   "metadata": {},
   "outputs": [],
   "source": [
    "while (cap.isOpened()):\n",
    "    # 4.获取视频的一帧图像\n",
    "    # 参数：\n",
    "    #     ret: 若获取成功返回True，获取失败，返回False\n",
    "    #     Frame: 获取到的某一帧的图像\n",
    "    res, frame = cap.read()\n",
    "\n",
    "    # 5.调用cv.imshow()显示图像，在显示图像时使用cv.waitkey()设置适当的持续时间，\n",
    "    # 如果太低视频会播放的非常快，如果太高就会播放的非常慢，通常情况下我们设置25ms就可以了。\n",
    "    if res == True:\n",
    "        cv2.imshow('frame', frame)\n",
    "\n",
    "    # 5.每一帧间隔为25ms 且 按了 q 就退出\n",
    "    if cv2.waitKey(25) & 0xFF == ord('q'):\n",
    "        break"
   ]
  },
  {
   "attachments": {},
   "cell_type": "markdown",
   "metadata": {},
   "source": [
    "# 保存视频\n",
    "\n",
    "fourcc 设置视频的编解码器，如下所示，\n",
    "```\n",
    "cv2.VideoWriter_fourcc( c1, c2, c3, c4 )\n",
    "```\n",
    "\n",
    "参数：\n",
    "\n",
    "c1,c2,c3,c4: 是视频编解码器的4字节代码，在fourcc.org中找到可用代码列表，与平台紧密相关，常用的有：\n",
    "- 在Windows中：DIVX（.avi）\n",
    "- 在OS中：MJPG（.mp4），DIVX（.avi），X264（.mkv）。\n",
    "- 利用cap.read()获取视频中的每一帧图像，并使用out.write()将某一帧图像写入视频中。\n",
    "- 使用cap.release()和out.release()释放资源。\n"
   ]
  },
  {
   "cell_type": "code",
   "execution_count": 17,
   "metadata": {},
   "outputs": [],
   "source": [
    "save = cv2.VideoWriter(\"../videos/output.mp4\", cv2.VideoWriter_fourcc('M', 'J', 'P', 'G'), frame, (width, height))\n",
    "while (True):\n",
    "    # 获取视频中的每一帧图像\n",
    "    ret, frame = cap.read()\n",
    "\n",
    "    if ret == True:\n",
    "        # 将每一帧图像写入到输出文件中\n",
    "        save.write(frame)\n",
    "    else:\n",
    "        break"
   ]
  },
  {
   "attachments": {},
   "cell_type": "markdown",
   "metadata": {},
   "source": [
    "# 释放视频对象"
   ]
  },
  {
   "cell_type": "code",
   "execution_count": 18,
   "metadata": {},
   "outputs": [],
   "source": [
    "cap.release()\n",
    "save.release()"
   ]
  },
  {
   "cell_type": "code",
   "execution_count": null,
   "metadata": {},
   "outputs": [],
   "source": []
  }
 ],
 "metadata": {
  "kernelspec": {
   "display_name": "pytorch",
   "language": "python",
   "name": "python3"
  },
  "language_info": {
   "codemirror_mode": {
    "name": "ipython",
    "version": 3
   },
   "file_extension": ".py",
   "mimetype": "text/x-python",
   "name": "python",
   "nbconvert_exporter": "python",
   "pygments_lexer": "ipython3",
   "version": "3.10.11"
  },
  "orig_nbformat": 4
 },
 "nbformat": 4,
 "nbformat_minor": 2
}
